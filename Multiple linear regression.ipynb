{
 "cells": [
  {
   "cell_type": "markdown",
   "metadata": {},
   "source": [
    "# Implementation of Multiple linear regression algorithm using python"
   ]
  },
  {
   "cell_type": "markdown",
   "metadata": {},
   "source": [
    "Prepared by : Swaminathan Ayyappan \n",
    "\n",
    "Email : swamynathanayyappan@gmail.com\n",
    "\n",
    "LinkedIn : linkedin.com/in/swaminathan-ayyappan-60b685175/\n",
    "\n",
    "Concept of Linear regression :\n",
    "\n",
    "              The linear regression algorithm was used to make the best fitting line for each and every points in the dataset.And for this the prediction is based upon the continuous values, we are implementing this algorithm.\n",
    "\n",
    "Problem description :\n",
    "\n",
    "In this section we are going to predict the profit of startup companies based upon multiple attributes like R&D Spend,Administration,Marketing spend,State. \n",
    "\n",
    "So we will be having an dataset which consists of Several startup company's profit with the above mentioned attributes.\n",
    "\n",
    "Since the prediction is based upon continuous values we can use linear regression concept to solve this business problem \n",
    "\n",
    "And the data set contains :\n",
    "\n",
    "i)R&D spend -> Funds spent for Research and develpoment.\n",
    "\n",
    "ii)Administartion -> Funds spent for Administration purposes.\n",
    "\n",
    "iii)Marketing spend -> Funds spent for marketing.\n",
    "\n",
    "iv)State -> The state that where the company/branch is located.\n",
    "\n",
    "v)Profit -> The profit which has been earned overall.\n",
    "\n",
    "The dataset for this project is already posted on the github repository.."
   ]
  },
  {
   "cell_type": "code",
   "execution_count": 1,
   "metadata": {},
   "outputs": [],
   "source": [
    "\"\"\"\n",
    "i)Pandas - Used for handling dataset.\n",
    "\n",
    "ii)numpy - stands for numerical python to handle arrays.\n",
    "\n",
    "iii)matplotlib - To visualize our dataset and here 'pyplot' refers to making of statistical plots.\n",
    "\n",
    "iv)seaborn - Advanced visualization library than matplotlib helps to visualize the dataset.\n",
    "\n",
    "Note :\n",
    "\n",
    "The %matplotlib inline helps to visualize the plots within the notebook itself.\n",
    "\n",
    "\"\"\"\n",
    "#Importing libraries like pandas,numpy,matplotlib and seaborn and their explanations are given below.\n",
    "import pandas as pd  \n",
    "import numpy as np  \n",
    "import matplotlib.pyplot as plt \n",
    "import seaborn as sns  \n",
    "%matplotlib inline  "
   ]
  },
  {
   "cell_type": "code",
   "execution_count": 2,
   "metadata": {},
   "outputs": [],
   "source": [
    "#Importing the startups datset into a single variable(startups) with the help of pandas.\n",
    "startups=pd.read_csv('F:/STUDY MATERIALS/[FreeCourseSite.com] Udemy - Machine Learning A-Z™ Hands-On Python & R In Data Science/Datasets/Machine Learning A-Z New/Part 2 - Regression/Section 5 - Multiple Linear Regression/50_Startups.csv')"
   ]
  },
  {
   "cell_type": "code",
   "execution_count": 3,
   "metadata": {},
   "outputs": [
    {
     "data": {
      "text/html": [
       "<div>\n",
       "<style scoped>\n",
       "    .dataframe tbody tr th:only-of-type {\n",
       "        vertical-align: middle;\n",
       "    }\n",
       "\n",
       "    .dataframe tbody tr th {\n",
       "        vertical-align: top;\n",
       "    }\n",
       "\n",
       "    .dataframe thead th {\n",
       "        text-align: right;\n",
       "    }\n",
       "</style>\n",
       "<table border=\"1\" class=\"dataframe\">\n",
       "  <thead>\n",
       "    <tr style=\"text-align: right;\">\n",
       "      <th></th>\n",
       "      <th>R&amp;D Spend</th>\n",
       "      <th>Administration</th>\n",
       "      <th>Marketing Spend</th>\n",
       "      <th>State</th>\n",
       "      <th>Profit</th>\n",
       "    </tr>\n",
       "  </thead>\n",
       "  <tbody>\n",
       "    <tr>\n",
       "      <th>0</th>\n",
       "      <td>165349.20</td>\n",
       "      <td>136897.80</td>\n",
       "      <td>471784.10</td>\n",
       "      <td>New York</td>\n",
       "      <td>192261.83</td>\n",
       "    </tr>\n",
       "    <tr>\n",
       "      <th>1</th>\n",
       "      <td>162597.70</td>\n",
       "      <td>151377.59</td>\n",
       "      <td>443898.53</td>\n",
       "      <td>California</td>\n",
       "      <td>191792.06</td>\n",
       "    </tr>\n",
       "    <tr>\n",
       "      <th>2</th>\n",
       "      <td>153441.51</td>\n",
       "      <td>101145.55</td>\n",
       "      <td>407934.54</td>\n",
       "      <td>Florida</td>\n",
       "      <td>191050.39</td>\n",
       "    </tr>\n",
       "    <tr>\n",
       "      <th>3</th>\n",
       "      <td>144372.41</td>\n",
       "      <td>118671.85</td>\n",
       "      <td>383199.62</td>\n",
       "      <td>New York</td>\n",
       "      <td>182901.99</td>\n",
       "    </tr>\n",
       "    <tr>\n",
       "      <th>4</th>\n",
       "      <td>142107.34</td>\n",
       "      <td>91391.77</td>\n",
       "      <td>366168.42</td>\n",
       "      <td>Florida</td>\n",
       "      <td>166187.94</td>\n",
       "    </tr>\n",
       "  </tbody>\n",
       "</table>\n",
       "</div>"
      ],
      "text/plain": [
       "   R&D Spend  Administration  Marketing Spend       State     Profit\n",
       "0  165349.20       136897.80        471784.10    New York  192261.83\n",
       "1  162597.70       151377.59        443898.53  California  191792.06\n",
       "2  153441.51       101145.55        407934.54     Florida  191050.39\n",
       "3  144372.41       118671.85        383199.62    New York  182901.99\n",
       "4  142107.34        91391.77        366168.42     Florida  166187.94"
      ]
     },
     "execution_count": 3,
     "metadata": {},
     "output_type": "execute_result"
    }
   ],
   "source": [
    "#Viewing the first five entries of the startups dataset.\n",
    "startups.head()"
   ]
  },
  {
   "cell_type": "code",
   "execution_count": 4,
   "metadata": {},
   "outputs": [
    {
     "name": "stdout",
     "output_type": "stream",
     "text": [
      "<class 'pandas.core.frame.DataFrame'>\n",
      "RangeIndex: 50 entries, 0 to 49\n",
      "Data columns (total 5 columns):\n",
      " #   Column           Non-Null Count  Dtype  \n",
      "---  ------           --------------  -----  \n",
      " 0   R&D Spend        50 non-null     float64\n",
      " 1   Administration   50 non-null     float64\n",
      " 2   Marketing Spend  50 non-null     float64\n",
      " 3   State            50 non-null     object \n",
      " 4   Profit           50 non-null     float64\n",
      "dtypes: float64(4), object(1)\n",
      "memory usage: 2.1+ KB\n"
     ]
    }
   ],
   "source": [
    "#provides entire information of the startups dataset.\n",
    "startups.info()"
   ]
  },
  {
   "cell_type": "code",
   "execution_count": 5,
   "metadata": {},
   "outputs": [
    {
     "data": {
      "text/html": [
       "<div>\n",
       "<style scoped>\n",
       "    .dataframe tbody tr th:only-of-type {\n",
       "        vertical-align: middle;\n",
       "    }\n",
       "\n",
       "    .dataframe tbody tr th {\n",
       "        vertical-align: top;\n",
       "    }\n",
       "\n",
       "    .dataframe thead th {\n",
       "        text-align: right;\n",
       "    }\n",
       "</style>\n",
       "<table border=\"1\" class=\"dataframe\">\n",
       "  <thead>\n",
       "    <tr style=\"text-align: right;\">\n",
       "      <th></th>\n",
       "      <th>R&amp;D Spend</th>\n",
       "      <th>Administration</th>\n",
       "      <th>Marketing Spend</th>\n",
       "      <th>Profit</th>\n",
       "    </tr>\n",
       "  </thead>\n",
       "  <tbody>\n",
       "    <tr>\n",
       "      <th>count</th>\n",
       "      <td>50.000000</td>\n",
       "      <td>50.000000</td>\n",
       "      <td>50.000000</td>\n",
       "      <td>50.000000</td>\n",
       "    </tr>\n",
       "    <tr>\n",
       "      <th>mean</th>\n",
       "      <td>73721.615600</td>\n",
       "      <td>121344.639600</td>\n",
       "      <td>211025.097800</td>\n",
       "      <td>112012.639200</td>\n",
       "    </tr>\n",
       "    <tr>\n",
       "      <th>std</th>\n",
       "      <td>45902.256482</td>\n",
       "      <td>28017.802755</td>\n",
       "      <td>122290.310726</td>\n",
       "      <td>40306.180338</td>\n",
       "    </tr>\n",
       "    <tr>\n",
       "      <th>min</th>\n",
       "      <td>0.000000</td>\n",
       "      <td>51283.140000</td>\n",
       "      <td>0.000000</td>\n",
       "      <td>14681.400000</td>\n",
       "    </tr>\n",
       "    <tr>\n",
       "      <th>25%</th>\n",
       "      <td>39936.370000</td>\n",
       "      <td>103730.875000</td>\n",
       "      <td>129300.132500</td>\n",
       "      <td>90138.902500</td>\n",
       "    </tr>\n",
       "    <tr>\n",
       "      <th>50%</th>\n",
       "      <td>73051.080000</td>\n",
       "      <td>122699.795000</td>\n",
       "      <td>212716.240000</td>\n",
       "      <td>107978.190000</td>\n",
       "    </tr>\n",
       "    <tr>\n",
       "      <th>75%</th>\n",
       "      <td>101602.800000</td>\n",
       "      <td>144842.180000</td>\n",
       "      <td>299469.085000</td>\n",
       "      <td>139765.977500</td>\n",
       "    </tr>\n",
       "    <tr>\n",
       "      <th>max</th>\n",
       "      <td>165349.200000</td>\n",
       "      <td>182645.560000</td>\n",
       "      <td>471784.100000</td>\n",
       "      <td>192261.830000</td>\n",
       "    </tr>\n",
       "  </tbody>\n",
       "</table>\n",
       "</div>"
      ],
      "text/plain": [
       "           R&D Spend  Administration  Marketing Spend         Profit\n",
       "count      50.000000       50.000000        50.000000      50.000000\n",
       "mean    73721.615600   121344.639600    211025.097800  112012.639200\n",
       "std     45902.256482    28017.802755    122290.310726   40306.180338\n",
       "min         0.000000    51283.140000         0.000000   14681.400000\n",
       "25%     39936.370000   103730.875000    129300.132500   90138.902500\n",
       "50%     73051.080000   122699.795000    212716.240000  107978.190000\n",
       "75%    101602.800000   144842.180000    299469.085000  139765.977500\n",
       "max    165349.200000   182645.560000    471784.100000  192261.830000"
      ]
     },
     "execution_count": 5,
     "metadata": {},
     "output_type": "execute_result"
    }
   ],
   "source": [
    "#given entire description of the numerical values of the startups dataset.\n",
    "#Provides the occurence,mean,standard deviation,minimum,maximum,and interquartile ranges (25% , 50%, 75%) of startups dataset attributes.\n",
    "startups.describe()"
   ]
  },
  {
   "cell_type": "code",
   "execution_count": 6,
   "metadata": {},
   "outputs": [
    {
     "data": {
      "text/html": [
       "<div>\n",
       "<style scoped>\n",
       "    .dataframe tbody tr th:only-of-type {\n",
       "        vertical-align: middle;\n",
       "    }\n",
       "\n",
       "    .dataframe tbody tr th {\n",
       "        vertical-align: top;\n",
       "    }\n",
       "\n",
       "    .dataframe thead th {\n",
       "        text-align: right;\n",
       "    }\n",
       "</style>\n",
       "<table border=\"1\" class=\"dataframe\">\n",
       "  <thead>\n",
       "    <tr style=\"text-align: right;\">\n",
       "      <th></th>\n",
       "      <th>R&amp;D Spend</th>\n",
       "      <th>Administration</th>\n",
       "      <th>Marketing Spend</th>\n",
       "      <th>State</th>\n",
       "      <th>Profit</th>\n",
       "    </tr>\n",
       "  </thead>\n",
       "  <tbody>\n",
       "    <tr>\n",
       "      <th>45</th>\n",
       "      <td>1000.23</td>\n",
       "      <td>124153.04</td>\n",
       "      <td>1903.93</td>\n",
       "      <td>New York</td>\n",
       "      <td>64926.08</td>\n",
       "    </tr>\n",
       "    <tr>\n",
       "      <th>46</th>\n",
       "      <td>1315.46</td>\n",
       "      <td>115816.21</td>\n",
       "      <td>297114.46</td>\n",
       "      <td>Florida</td>\n",
       "      <td>49490.75</td>\n",
       "    </tr>\n",
       "    <tr>\n",
       "      <th>47</th>\n",
       "      <td>0.00</td>\n",
       "      <td>135426.92</td>\n",
       "      <td>0.00</td>\n",
       "      <td>California</td>\n",
       "      <td>42559.73</td>\n",
       "    </tr>\n",
       "    <tr>\n",
       "      <th>48</th>\n",
       "      <td>542.05</td>\n",
       "      <td>51743.15</td>\n",
       "      <td>0.00</td>\n",
       "      <td>New York</td>\n",
       "      <td>35673.41</td>\n",
       "    </tr>\n",
       "    <tr>\n",
       "      <th>49</th>\n",
       "      <td>0.00</td>\n",
       "      <td>116983.80</td>\n",
       "      <td>45173.06</td>\n",
       "      <td>California</td>\n",
       "      <td>14681.40</td>\n",
       "    </tr>\n",
       "  </tbody>\n",
       "</table>\n",
       "</div>"
      ],
      "text/plain": [
       "    R&D Spend  Administration  Marketing Spend       State    Profit\n",
       "45    1000.23       124153.04          1903.93    New York  64926.08\n",
       "46    1315.46       115816.21        297114.46     Florida  49490.75\n",
       "47       0.00       135426.92             0.00  California  42559.73\n",
       "48     542.05        51743.15             0.00    New York  35673.41\n",
       "49       0.00       116983.80         45173.06  California  14681.40"
      ]
     },
     "execution_count": 6,
     "metadata": {},
     "output_type": "execute_result"
    }
   ],
   "source": [
    "#Viewing the last five entries of the startups dataset.\n",
    "startups.tail()"
   ]
  },
  {
   "cell_type": "code",
   "execution_count": 7,
   "metadata": {},
   "outputs": [
    {
     "data": {
      "text/plain": [
       "Index(['R&D Spend', 'Administration', 'Marketing Spend', 'State', 'Profit'], dtype='object')"
      ]
     },
     "execution_count": 7,
     "metadata": {},
     "output_type": "execute_result"
    }
   ],
   "source": [
    "#Displaying the column names / attributes of the startups dataset. \n",
    "startups.columns"
   ]
  },
  {
   "cell_type": "code",
   "execution_count": 8,
   "metadata": {},
   "outputs": [
    {
     "data": {
      "text/plain": [
       "(50, 5)"
      ]
     },
     "execution_count": 8,
     "metadata": {},
     "output_type": "execute_result"
    }
   ],
   "source": [
    "#To know about the number of rows and columns of the startups dataset. \n",
    "startups.shape"
   ]
  },
  {
   "cell_type": "code",
   "execution_count": 9,
   "metadata": {},
   "outputs": [
    {
     "data": {
      "text/plain": [
       "R&D Spend          False\n",
       "Administration     False\n",
       "Marketing Spend    False\n",
       "State              False\n",
       "Profit             False\n",
       "dtype: bool"
      ]
     },
     "execution_count": 9,
     "metadata": {},
     "output_type": "execute_result"
    }
   ],
   "source": [
    "#To verify any null values present of the startups dataset. \n",
    "startups.isna().any()"
   ]
  },
  {
   "cell_type": "code",
   "execution_count": 10,
   "metadata": {},
   "outputs": [
    {
     "data": {
      "text/plain": [
       "0.00         2\n",
       "123334.88    1\n",
       "165349.20    1\n",
       "38558.51     1\n",
       "46014.02     1\n",
       "20229.59     1\n",
       "130298.13    1\n",
       "55493.95     1\n",
       "542.05       1\n",
       "91992.39     1\n",
       "65605.48     1\n",
       "23640.93     1\n",
       "162597.70    1\n",
       "131876.90    1\n",
       "67532.53     1\n",
       "61136.38     1\n",
       "119943.24    1\n",
       "76253.86     1\n",
       "72107.60     1\n",
       "28663.76     1\n",
       "44069.95     1\n",
       "66051.52     1\n",
       "78013.11     1\n",
       "91749.16     1\n",
       "27892.92     1\n",
       "93863.75     1\n",
       "100671.96    1\n",
       "1315.46      1\n",
       "134615.46    1\n",
       "28754.33     1\n",
       "78389.47     1\n",
       "153441.51    1\n",
       "46426.07     1\n",
       "114523.61    1\n",
       "22177.74     1\n",
       "101913.08    1\n",
       "63408.86     1\n",
       "15505.73     1\n",
       "64664.71     1\n",
       "77044.01     1\n",
       "86419.70     1\n",
       "120542.52    1\n",
       "144372.41    1\n",
       "73994.56     1\n",
       "142107.34    1\n",
       "94657.16     1\n",
       "75328.87     1\n",
       "61994.48     1\n",
       "1000.23      1\n",
       "Name: R&D Spend, dtype: int64"
      ]
     },
     "execution_count": 10,
     "metadata": {},
     "output_type": "execute_result"
    }
   ],
   "source": [
    "#To know about the each value's presence in the particular column (R&D spend) of the startups dataset.\n",
    "#And as we can see there are two zero entries in the particular column (R&D spend) of our startups dataset.\n",
    "startups['R&D Spend'].value_counts()"
   ]
  },
  {
   "cell_type": "code",
   "execution_count": 11,
   "metadata": {},
   "outputs": [
    {
     "data": {
      "text/plain": [
       "127382.30    1\n",
       "148718.95    1\n",
       "51743.15     1\n",
       "153514.11    1\n",
       "82982.09     1\n",
       "110594.11    1\n",
       "91391.77     1\n",
       "129219.61    1\n",
       "154806.14    1\n",
       "84710.77     1\n",
       "147198.87    1\n",
       "96189.63     1\n",
       "85047.44     1\n",
       "121597.55    1\n",
       "118671.85    1\n",
       "51283.14     1\n",
       "157693.92    1\n",
       "113867.30    1\n",
       "105751.03    1\n",
       "153773.43    1\n",
       "127320.38    1\n",
       "127864.55    1\n",
       "115816.21    1\n",
       "101145.55    1\n",
       "118546.05    1\n",
       "127056.21    1\n",
       "151377.59    1\n",
       "145530.06    1\n",
       "103057.49    1\n",
       "182645.56    1\n",
       "122782.75    1\n",
       "124153.04    1\n",
       "116983.80    1\n",
       "153032.06    1\n",
       "144135.98    1\n",
       "145077.58    1\n",
       "135495.07    1\n",
       "139553.16    1\n",
       "99814.71     1\n",
       "114175.79    1\n",
       "136897.80    1\n",
       "91790.61     1\n",
       "152701.92    1\n",
       "108679.17    1\n",
       "115641.28    1\n",
       "156547.42    1\n",
       "122616.84    1\n",
       "65947.93     1\n",
       "135426.92    1\n",
       "99281.34     1\n",
       "Name: Administration, dtype: int64"
      ]
     },
     "execution_count": 11,
     "metadata": {},
     "output_type": "execute_result"
    }
   ],
   "source": [
    "#To know about the each value's presence in the particular column (Administration) of the startups dataset.\n",
    "#There are no zero entries in the particular column/attribute (Administration) of our startups dataset.\n",
    "startups['Administration'].value_counts()"
   ]
  },
  {
   "cell_type": "code",
   "execution_count": 12,
   "metadata": {},
   "outputs": [
    {
     "data": {
      "text/plain": [
       "0.00         3\n",
       "46085.25     1\n",
       "383199.62    1\n",
       "107138.38    1\n",
       "205517.64    1\n",
       "443898.53    1\n",
       "174999.30    1\n",
       "197029.42    1\n",
       "140574.81    1\n",
       "366168.42    1\n",
       "45173.06     1\n",
       "118148.20    1\n",
       "362861.36    1\n",
       "134050.07    1\n",
       "323876.68    1\n",
       "282574.31    1\n",
       "127716.82    1\n",
       "185265.10    1\n",
       "172795.67    1\n",
       "304981.62    1\n",
       "298664.47    1\n",
       "1903.93      1\n",
       "148001.11    1\n",
       "210797.67    1\n",
       "28334.72     1\n",
       "35534.17     1\n",
       "261776.23    1\n",
       "299737.29    1\n",
       "303319.26    1\n",
       "164470.71    1\n",
       "229160.95    1\n",
       "304768.73    1\n",
       "471784.10    1\n",
       "311613.29    1\n",
       "294919.57    1\n",
       "407934.54    1\n",
       "88218.23     1\n",
       "264346.06    1\n",
       "249839.44    1\n",
       "214634.81    1\n",
       "201126.82    1\n",
       "252664.93    1\n",
       "353183.81    1\n",
       "91131.24     1\n",
       "297114.46    1\n",
       "137962.62    1\n",
       "249744.55    1\n",
       "256512.92    1\n",
       "Name: Marketing Spend, dtype: int64"
      ]
     },
     "execution_count": 12,
     "metadata": {},
     "output_type": "execute_result"
    }
   ],
   "source": [
    "#To know about the each value's presence in the particular column (Marketing Spend) of the startups dataset.\n",
    "#And as we can see there are three zero entries of our column/attribut (Marketing Spend) of our startups dataset.\n",
    "startups['Marketing Spend'].value_counts()"
   ]
  },
  {
   "cell_type": "code",
   "execution_count": 13,
   "metadata": {},
   "outputs": [
    {
     "data": {
      "text/plain": [
       "California    17\n",
       "New York      17\n",
       "Florida       16\n",
       "Name: State, dtype: int64"
      ]
     },
     "execution_count": 13,
     "metadata": {},
     "output_type": "execute_result"
    }
   ],
   "source": [
    "#To know about the each value's presence in the particular column (R&D spend) of the startups dataset.\n",
    "#As we can see it is column/attribute (State) that contains categorical values in our startups dataset.\n",
    "#So for this particular attribute we need to create dummy variables since linear regression accepts only continuous values (numerical).\n",
    "startups['State'].value_counts()"
   ]
  },
  {
   "cell_type": "code",
   "execution_count": 14,
   "metadata": {},
   "outputs": [
    {
     "data": {
      "text/plain": [
       "118474.03    1\n",
       "69758.98     1\n",
       "81229.06     1\n",
       "101004.64    1\n",
       "124266.90    1\n",
       "49490.75     1\n",
       "192261.83    1\n",
       "71498.49     1\n",
       "156991.12    1\n",
       "108733.99    1\n",
       "78239.91     1\n",
       "64926.08     1\n",
       "144259.40    1\n",
       "108552.04    1\n",
       "97427.84     1\n",
       "126992.93    1\n",
       "105733.54    1\n",
       "96712.80     1\n",
       "96479.51     1\n",
       "134307.35    1\n",
       "99937.59     1\n",
       "90708.19     1\n",
       "182901.99    1\n",
       "110352.25    1\n",
       "42559.73     1\n",
       "146121.95    1\n",
       "89949.14     1\n",
       "152211.77    1\n",
       "35673.41     1\n",
       "156122.51    1\n",
       "166187.94    1\n",
       "65200.33     1\n",
       "149759.96    1\n",
       "155752.60    1\n",
       "191792.06    1\n",
       "125370.37    1\n",
       "107404.34    1\n",
       "14681.40     1\n",
       "111313.02    1\n",
       "81005.76     1\n",
       "105008.31    1\n",
       "103282.38    1\n",
       "132602.65    1\n",
       "129917.04    1\n",
       "122776.86    1\n",
       "96778.92     1\n",
       "77798.83     1\n",
       "141585.52    1\n",
       "191050.39    1\n",
       "97483.56     1\n",
       "Name: Profit, dtype: int64"
      ]
     },
     "execution_count": 14,
     "metadata": {},
     "output_type": "execute_result"
    }
   ],
   "source": [
    "#To know about the each value's presence in the particular column (R&D spend) of the dataset.\n",
    "#There are no zero entries in the column/attribute (Profit) from our startups dataset.\n",
    "startups['Profit'].value_counts()"
   ]
  },
  {
   "cell_type": "code",
   "execution_count": 15,
   "metadata": {},
   "outputs": [
    {
     "data": {
      "text/html": [
       "<div>\n",
       "<style scoped>\n",
       "    .dataframe tbody tr th:only-of-type {\n",
       "        vertical-align: middle;\n",
       "    }\n",
       "\n",
       "    .dataframe tbody tr th {\n",
       "        vertical-align: top;\n",
       "    }\n",
       "\n",
       "    .dataframe thead th {\n",
       "        text-align: right;\n",
       "    }\n",
       "</style>\n",
       "<table border=\"1\" class=\"dataframe\">\n",
       "  <thead>\n",
       "    <tr style=\"text-align: right;\">\n",
       "      <th></th>\n",
       "      <th>R&amp;D Spend</th>\n",
       "      <th>Administration</th>\n",
       "      <th>Marketing Spend</th>\n",
       "      <th>Profit</th>\n",
       "    </tr>\n",
       "  </thead>\n",
       "  <tbody>\n",
       "    <tr>\n",
       "      <th>R&amp;D Spend</th>\n",
       "      <td>1.000000</td>\n",
       "      <td>0.241955</td>\n",
       "      <td>0.724248</td>\n",
       "      <td>0.972900</td>\n",
       "    </tr>\n",
       "    <tr>\n",
       "      <th>Administration</th>\n",
       "      <td>0.241955</td>\n",
       "      <td>1.000000</td>\n",
       "      <td>-0.032154</td>\n",
       "      <td>0.200717</td>\n",
       "    </tr>\n",
       "    <tr>\n",
       "      <th>Marketing Spend</th>\n",
       "      <td>0.724248</td>\n",
       "      <td>-0.032154</td>\n",
       "      <td>1.000000</td>\n",
       "      <td>0.747766</td>\n",
       "    </tr>\n",
       "    <tr>\n",
       "      <th>Profit</th>\n",
       "      <td>0.972900</td>\n",
       "      <td>0.200717</td>\n",
       "      <td>0.747766</td>\n",
       "      <td>1.000000</td>\n",
       "    </tr>\n",
       "  </tbody>\n",
       "</table>\n",
       "</div>"
      ],
      "text/plain": [
       "                 R&D Spend  Administration  Marketing Spend    Profit\n",
       "R&D Spend         1.000000        0.241955         0.724248  0.972900\n",
       "Administration    0.241955        1.000000        -0.032154  0.200717\n",
       "Marketing Spend   0.724248       -0.032154         1.000000  0.747766\n",
       "Profit            0.972900        0.200717         0.747766  1.000000"
      ]
     },
     "execution_count": 15,
     "metadata": {},
     "output_type": "execute_result"
    }
   ],
   "source": [
    "#To understand about the correlation between each attributes in the startups dataset.\n",
    "startups.corr()"
   ]
  },
  {
   "cell_type": "code",
   "execution_count": 16,
   "metadata": {},
   "outputs": [
    {
     "data": {
      "image/png": "[encoded data removed]",
      "text/plain": [
       "<Figure size 432x288 with 2 Axes>"
      ]
     },
     "metadata": {
      "needs_background": "light"
     },
     "output_type": "display_data"
    }
   ],
   "source": [
    "#To visualize the correlation of the attributes present inside the startups dataset using a heatmap.\n",
    "sns.heatmap(startups.corr(),annot=True,cmap='coolwarm')\n",
    "plt.show()"
   ]
  },
  {
   "cell_type": "code",
   "execution_count": 17,
   "metadata": {},
   "outputs": [
    {
     "data": {
      "image/png": "[encoded data removed]",
      "text/plain": [
       "<Figure size 720x720 with 4 Axes>"
      ]
     },
     "metadata": {
      "needs_background": "light"
     },
     "output_type": "display_data"
    }
   ],
   "source": [
    "#To visualize the correlation of the attributes present inside the startups dataset using a heatmap.\n",
    "sns.clustermap(startups.corr(),cmap='viridis',annot=True)\n",
    "plt.show()"
   ]
  },
  {
   "cell_type": "code",
   "execution_count": 18,
   "metadata": {},
   "outputs": [
    {
     "data": {
      "image/png": "[encoded data removed]",
      "text/plain": [
       "<Figure size 720x720 with 20 Axes>"
      ]
     },
     "metadata": {
      "needs_background": "light"
     },
     "output_type": "display_data"
    }
   ],
   "source": [
    "#To create a pair plot of the every numerical values in the startups dataset.\n",
    "sns.pairplot(startups)\n",
    "plt.show()"
   ]
  },
  {
   "cell_type": "code",
   "execution_count": 19,
   "metadata": {},
   "outputs": [
    {
     "data": {
      "image/png": "[encoded data removed]",
      "text/plain": [
       "<Figure size 432x288 with 1 Axes>"
      ]
     },
     "metadata": {
      "needs_background": "light"
     },
     "output_type": "display_data"
    }
   ],
   "source": [
    "#To create a ditance plot of the Profit column in the startups dataset\n",
    "sns.distplot(startups['Profit'])\n",
    "plt.show()"
   ]
  },
  {
   "cell_type": "markdown",
   "metadata": {},
   "source": [
    "# Creation of dummy variables for categorical columns in the dataset."
   ]
  },
  {
   "cell_type": "code",
   "execution_count": 20,
   "metadata": {},
   "outputs": [],
   "source": [
    "#Creating the dummy variable for state column in our startups dataset.\n",
    "#We can achieve this by two methods by using pandas in built get_dummies method or by using oneHotEncoder , LabelledEncoder\n",
    "#So in this scenario we are using pandas in-built get_dummies method.\n",
    "dummy=pd.get_dummies(startups['State']) #Assigning dummy variables to the variable named as dummy. "
   ]
  },
  {
   "cell_type": "code",
   "execution_count": 21,
   "metadata": {},
   "outputs": [
    {
     "data": {
      "text/html": [
       "<div>\n",
       "<style scoped>\n",
       "    .dataframe tbody tr th:only-of-type {\n",
       "        vertical-align: middle;\n",
       "    }\n",
       "\n",
       "    .dataframe tbody tr th {\n",
       "        vertical-align: top;\n",
       "    }\n",
       "\n",
       "    .dataframe thead th {\n",
       "        text-align: right;\n",
       "    }\n",
       "</style>\n",
       "<table border=\"1\" class=\"dataframe\">\n",
       "  <thead>\n",
       "    <tr style=\"text-align: right;\">\n",
       "      <th></th>\n",
       "      <th>California</th>\n",
       "      <th>Florida</th>\n",
       "      <th>New York</th>\n",
       "    </tr>\n",
       "  </thead>\n",
       "  <tbody>\n",
       "    <tr>\n",
       "      <th>0</th>\n",
       "      <td>0</td>\n",
       "      <td>0</td>\n",
       "      <td>1</td>\n",
       "    </tr>\n",
       "    <tr>\n",
       "      <th>1</th>\n",
       "      <td>1</td>\n",
       "      <td>0</td>\n",
       "      <td>0</td>\n",
       "    </tr>\n",
       "    <tr>\n",
       "      <th>2</th>\n",
       "      <td>0</td>\n",
       "      <td>1</td>\n",
       "      <td>0</td>\n",
       "    </tr>\n",
       "    <tr>\n",
       "      <th>3</th>\n",
       "      <td>0</td>\n",
       "      <td>0</td>\n",
       "      <td>1</td>\n",
       "    </tr>\n",
       "    <tr>\n",
       "      <th>4</th>\n",
       "      <td>0</td>\n",
       "      <td>1</td>\n",
       "      <td>0</td>\n",
       "    </tr>\n",
       "  </tbody>\n",
       "</table>\n",
       "</div>"
      ],
      "text/plain": [
       "   California  Florida  New York\n",
       "0           0        0         1\n",
       "1           1        0         0\n",
       "2           0        1         0\n",
       "3           0        0         1\n",
       "4           0        1         0"
      ]
     },
     "execution_count": 21,
     "metadata": {},
     "output_type": "execute_result"
    }
   ],
   "source": [
    "#Displays the first five datas present in the dummy dataset.\n",
    "dummy.head()"
   ]
  },
  {
   "cell_type": "markdown",
   "metadata": {},
   "source": [
    "# Dummy variable trap"
   ]
  },
  {
   "cell_type": "markdown",
   "metadata": {},
   "source": [
    "Dummy variable trap is defined as eleminating one of the features/columns/attributes in out dummy dataset such in a way that our model will make predictions better as we expected."
   ]
  },
  {
   "cell_type": "code",
   "execution_count": 22,
   "metadata": {},
   "outputs": [],
   "source": [
    "#We are going to drop 'Florida' column in our dummy dataset inorder to avoid dummy variable trap.\n",
    "dummy.drop('Florida',axis=1,inplace=True)"
   ]
  },
  {
   "cell_type": "code",
   "execution_count": 23,
   "metadata": {},
   "outputs": [
    {
     "data": {
      "text/plain": [
       "Index(['California', 'New York'], dtype='object')"
      ]
     },
     "execution_count": 23,
     "metadata": {},
     "output_type": "execute_result"
    }
   ],
   "source": [
    "#reviewing the columns in our dummy dataset after removal of 'Florida' column.\n",
    "dummy.columns"
   ]
  },
  {
   "cell_type": "markdown",
   "metadata": {},
   "source": [
    "As we can see that the 'florida' column was omitted from our dummy dataset.Followed by that we want to remove the state column in our startups dataset."
   ]
  },
  {
   "cell_type": "code",
   "execution_count": 24,
   "metadata": {},
   "outputs": [],
   "source": [
    "#Dropping the 'State' column from our startups dataset.\n",
    "startups.drop('State',axis=1,inplace=True)"
   ]
  },
  {
   "cell_type": "code",
   "execution_count": 25,
   "metadata": {},
   "outputs": [
    {
     "data": {
      "text/plain": [
       "Index(['R&D Spend', 'Administration', 'Marketing Spend', 'Profit'], dtype='object')"
      ]
     },
     "execution_count": 25,
     "metadata": {},
     "output_type": "execute_result"
    }
   ],
   "source": [
    "#reviewing the columns in our startups dataset after removal of 'State' column.\n",
    "startups.columns"
   ]
  },
  {
   "cell_type": "markdown",
   "metadata": {},
   "source": [
    "As we can see that the 'State' column was omitted from our startups dataset.Followed by that we want to perform the concatenation of dummy and startups dataset."
   ]
  },
  {
   "cell_type": "markdown",
   "metadata": {},
   "source": [
    "# Concatenation of dummy dataset with startups dataset"
   ]
  },
  {
   "cell_type": "code",
   "execution_count": 26,
   "metadata": {},
   "outputs": [],
   "source": [
    "#Concatenating the dummy and startups dataset together using pandas concat method.\n",
    "startups=pd.concat([dummy,startups],axis=1)"
   ]
  },
  {
   "cell_type": "code",
   "execution_count": 27,
   "metadata": {},
   "outputs": [
    {
     "data": {
      "text/html": [
       "<div>\n",
       "<style scoped>\n",
       "    .dataframe tbody tr th:only-of-type {\n",
       "        vertical-align: middle;\n",
       "    }\n",
       "\n",
       "    .dataframe tbody tr th {\n",
       "        vertical-align: top;\n",
       "    }\n",
       "\n",
       "    .dataframe thead th {\n",
       "        text-align: right;\n",
       "    }\n",
       "</style>\n",
       "<table border=\"1\" class=\"dataframe\">\n",
       "  <thead>\n",
       "    <tr style=\"text-align: right;\">\n",
       "      <th></th>\n",
       "      <th>California</th>\n",
       "      <th>New York</th>\n",
       "      <th>R&amp;D Spend</th>\n",
       "      <th>Administration</th>\n",
       "      <th>Marketing Spend</th>\n",
       "      <th>Profit</th>\n",
       "    </tr>\n",
       "  </thead>\n",
       "  <tbody>\n",
       "    <tr>\n",
       "      <th>0</th>\n",
       "      <td>0</td>\n",
       "      <td>1</td>\n",
       "      <td>165349.20</td>\n",
       "      <td>136897.80</td>\n",
       "      <td>471784.10</td>\n",
       "      <td>192261.83</td>\n",
       "    </tr>\n",
       "    <tr>\n",
       "      <th>1</th>\n",
       "      <td>1</td>\n",
       "      <td>0</td>\n",
       "      <td>162597.70</td>\n",
       "      <td>151377.59</td>\n",
       "      <td>443898.53</td>\n",
       "      <td>191792.06</td>\n",
       "    </tr>\n",
       "    <tr>\n",
       "      <th>2</th>\n",
       "      <td>0</td>\n",
       "      <td>0</td>\n",
       "      <td>153441.51</td>\n",
       "      <td>101145.55</td>\n",
       "      <td>407934.54</td>\n",
       "      <td>191050.39</td>\n",
       "    </tr>\n",
       "    <tr>\n",
       "      <th>3</th>\n",
       "      <td>0</td>\n",
       "      <td>1</td>\n",
       "      <td>144372.41</td>\n",
       "      <td>118671.85</td>\n",
       "      <td>383199.62</td>\n",
       "      <td>182901.99</td>\n",
       "    </tr>\n",
       "    <tr>\n",
       "      <th>4</th>\n",
       "      <td>0</td>\n",
       "      <td>0</td>\n",
       "      <td>142107.34</td>\n",
       "      <td>91391.77</td>\n",
       "      <td>366168.42</td>\n",
       "      <td>166187.94</td>\n",
       "    </tr>\n",
       "  </tbody>\n",
       "</table>\n",
       "</div>"
      ],
      "text/plain": [
       "   California  New York  R&D Spend  Administration  Marketing Spend     Profit\n",
       "0           0         1  165349.20       136897.80        471784.10  192261.83\n",
       "1           1         0  162597.70       151377.59        443898.53  191792.06\n",
       "2           0         0  153441.51       101145.55        407934.54  191050.39\n",
       "3           0         1  144372.41       118671.85        383199.62  182901.99\n",
       "4           0         0  142107.34        91391.77        366168.42  166187.94"
      ]
     },
     "execution_count": 27,
     "metadata": {},
     "output_type": "execute_result"
    }
   ],
   "source": [
    "#Reviewing the first five entries of our concatenated startups dataset.\n",
    "startups.head(5)"
   ]
  },
  {
   "cell_type": "markdown",
   "metadata": {},
   "source": [
    "# Dependent and Indpendent variable allocation"
   ]
  },
  {
   "cell_type": "markdown",
   "metadata": {},
   "source": [
    "Inorder to execute Machine learning algorithm we want to seperate the dependent and independent values in the dataset\n",
    "\n",
    "where,\n",
    "\n",
    "X->Independent variable\n",
    "\n",
    "y->Dependent variable"
   ]
  },
  {
   "cell_type": "markdown",
   "metadata": {},
   "source": [
    "So in our datset the 'Profit' is purely dependent on the 'R&D Spend','Administration','Marketing Spend' so in this case we need to allocate Profit for X variable and the rest of the variables to y variable."
   ]
  },
  {
   "cell_type": "code",
   "execution_count": 28,
   "metadata": {},
   "outputs": [],
   "source": [
    "X=startups.iloc[:,[0,1,2,3,4]] # 2 Dimensional array that holds the value of 'California','New York','R&D Spend', 'Administration', 'Marketing Spend' from the startups dataset.\n",
    "y=startups.iloc[:,[5]] # 2 Dimensional array that holds the value of 'Profit' from the startups dataset."
   ]
  },
  {
   "cell_type": "markdown",
   "metadata": {},
   "source": [
    "# Train and Test split"
   ]
  },
  {
   "cell_type": "markdown",
   "metadata": {},
   "source": [
    "The dependent and independent variables are splitted into training and test data for fitting into our model"
   ]
  },
  {
   "cell_type": "code",
   "execution_count": 29,
   "metadata": {},
   "outputs": [],
   "source": [
    "#Importing train_test_split class from scikit learn library under model_selection package.\n",
    "from sklearn.model_selection import train_test_split"
   ]
  },
  {
   "cell_type": "code",
   "execution_count": 30,
   "metadata": {},
   "outputs": [],
   "source": [
    "# Splits the dependent and independent variable into training and test data by the use of train test split.\n",
    "X_train, X_test, y_train, y_test = train_test_split(X, y, test_size=0.3, random_state=101)"
   ]
  },
  {
   "cell_type": "markdown",
   "metadata": {},
   "source": [
    "# Importing LinearRegression class from scikit learn (sklearn) library"
   ]
  },
  {
   "cell_type": "code",
   "execution_count": 31,
   "metadata": {},
   "outputs": [],
   "source": [
    "#Importing LinearRegression class from scikitlearn(sklearn) library under linear_model package.\n",
    "from sklearn.linear_model import LinearRegression"
   ]
  },
  {
   "cell_type": "code",
   "execution_count": 32,
   "metadata": {},
   "outputs": [],
   "source": [
    "#instatntiate our model (Creating an object for the Linear regression class).\n",
    "lr=LinearRegression() "
   ]
  },
  {
   "cell_type": "markdown",
   "metadata": {},
   "source": [
    "# Fitting the training data / Training our model"
   ]
  },
  {
   "cell_type": "code",
   "execution_count": 33,
   "metadata": {},
   "outputs": [
    {
     "data": {
      "text/plain": [
       "LinearRegression(copy_X=True, fit_intercept=True, n_jobs=None, normalize=False)"
      ]
     },
     "execution_count": 33,
     "metadata": {},
     "output_type": "execute_result"
    }
   ],
   "source": [
    "#Train our model by fitting the training data into it.\n",
    "lr.fit(X_train,y_train)"
   ]
  },
  {
   "cell_type": "markdown",
   "metadata": {},
   "source": [
    "# Finding accuracy of our trained model"
   ]
  },
  {
   "cell_type": "markdown",
   "metadata": {},
   "source": [
    "i)Using score method"
   ]
  },
  {
   "cell_type": "code",
   "execution_count": 34,
   "metadata": {},
   "outputs": [
    {
     "name": "stdout",
     "output_type": "stream",
     "text": [
      "92.41937845118973 %\n"
     ]
    }
   ],
   "source": [
    "#Predicting the performance/score of our linear regression model.\n",
    "print(lr.score(X_test,y_test)*100,'%')"
   ]
  },
  {
   "cell_type": "code",
   "execution_count": 35,
   "metadata": {},
   "outputs": [],
   "source": [
    "#Importing Root mean squared error (RMSE) and Mean absolute error (MAE) class from scikit learn library under metrics package. \n",
    "from sklearn.metrics import mean_squared_error,mean_absolute_error"
   ]
  },
  {
   "cell_type": "code",
   "execution_count": 36,
   "metadata": {},
   "outputs": [],
   "source": [
    "#Assigning the test data to a variable using predict method.\n",
    "y_pred=lr.predict(X_test)"
   ]
  },
  {
   "cell_type": "markdown",
   "metadata": {},
   "source": [
    "ii)Using Mean Squared Error (MSE) :"
   ]
  },
  {
   "cell_type": "code",
   "execution_count": 37,
   "metadata": {},
   "outputs": [
    {
     "name": "stdout",
     "output_type": "stream",
     "text": [
      "110145720.56762388\n"
     ]
    }
   ],
   "source": [
    "#Prints the mean squared error (MSE) for our test data and predicted data.\n",
    "print(mean_squared_error(y_test,y_pred))"
   ]
  },
  {
   "cell_type": "markdown",
   "metadata": {},
   "source": [
    "iii)Using Mean Absolute Error (MAE):"
   ]
  },
  {
   "cell_type": "code",
   "execution_count": 38,
   "metadata": {},
   "outputs": [
    {
     "name": "stdout",
     "output_type": "stream",
     "text": [
      "8353.874382738819\n"
     ]
    }
   ],
   "source": [
    "#Prints the mean absolute error (MAE) for our test data and predicted data.\n",
    "print(mean_absolute_error(y_test,y_pred))"
   ]
  },
  {
   "cell_type": "markdown",
   "metadata": {},
   "source": [
    "iv)Using Mean Squared Error (MSE):"
   ]
  },
  {
   "cell_type": "code",
   "execution_count": 39,
   "metadata": {},
   "outputs": [
    {
     "name": "stdout",
     "output_type": "stream",
     "text": [
      "10495.03313799551\n"
     ]
    }
   ],
   "source": [
    "#Prints the root mean squared error (RMSE) for our test data and predicted data.\n",
    "print(np.sqrt(mean_squared_error(y_test,y_pred)))"
   ]
  },
  {
   "cell_type": "markdown",
   "metadata": {},
   "source": [
    "v)Creating a distance plot "
   ]
  },
  {
   "cell_type": "code",
   "execution_count": 40,
   "metadata": {},
   "outputs": [
    {
     "data": {
      "image/png": "[encoded data removed]",
      "text/plain": [
       "<Figure size 432x288 with 1 Axes>"
      ]
     },
     "metadata": {
      "needs_background": "light"
     },
     "output_type": "display_data"
    }
   ],
   "source": [
    "#The visualization looks like an mountain peek, well it indicates the model is perfect enough to make predictions.\n",
    "sns.distplot(y_test-y_pred)\n",
    "plt.show()"
   ]
  },
  {
   "cell_type": "markdown",
   "metadata": {},
   "source": [
    "# Making predictions :"
   ]
  },
  {
   "cell_type": "code",
   "execution_count": 41,
   "metadata": {
    "scrolled": true
   },
   "outputs": [
    {
     "name": "stdout",
     "output_type": "stream",
     "text": [
      "If the company was in California then give 1 as input else give 0 as input :0\n",
      "If the company was in New york then give 1 as input else give 0 as input :1\n",
      "Enter the amount spend for research and development (R&D) purpose :455626535\n",
      "Enter the amount spend for administration purpose :548626\n",
      "Enter the amount spend for marketing spend :546598\n",
      "\n",
      "-----Predicted Results for given inputs-----\n",
      "\n",
      "The company was located in New York\n",
      "\n",
      "The profit of the company is about : $ 365123409.6736762\n"
     ]
    }
   ],
   "source": [
    "cal=int(input('If the company was in California then give 1 as input else give 0 as input :'))\n",
    "new=int(input('If the company was in New york then give 1 as input else give 0 as input :'))\n",
    "rd=float(input('Enter the amount spend for research and development (R&D) purpose :'))\n",
    "ad=float(input('Enter the amount spend for administration purpose :'))\n",
    "ms=float(input('Enter the amount spend for marketing spend :'))\n",
    "print()\n",
    "print(\"-----Predicted Results for given inputs-----\")\n",
    "print()\n",
    "if cal==1:\n",
    "    print('The company was located in California')\n",
    "    print()\n",
    "    print('The profit of the company is about : $',float(lr.predict([[cal,new,rd,ad,ms]])))\n",
    "if new==1:\n",
    "        print(\"The company was located in New York\")\n",
    "        print()\n",
    "        print('The profit of the company is about : $',float(lr.predict([[cal,new,rd,ad,ms]])))\n",
    "if cal==0 and new==0:\n",
    "        print(\"The company was located in Florida\")\n",
    "        print()\n",
    "        print('The profit of the company is about : $',float(lr.predict([[cal,new,rd,ad,ms]])))\n",
    "if cal==1 and new==1:\n",
    "        print(\"The company was located in both Florida and New York\")\n",
    "        print()\n",
    "        print('The profit of the company is about : $',float(lr.predict([[cal,new,rd,ad,ms]])))\n",
    "if (cal!=0 and cal!=1) or (new!=0 and new!=1):\n",
    "    print('Your inputs for states is not correct')"
   ]
  }
 ],
 "metadata": {
  "kernelspec": {
   "display_name": "Python 3",
   "language": "python",
   "name": "python3"
  },
  "language_info": {
   "codemirror_mode": {
    "name": "ipython",
    "version": 3
   },
   "file_extension": ".py",
   "mimetype": "text/x-python",
   "name": "python",
   "nbconvert_exporter": "python",
   "pygments_lexer": "ipython3",
   "version": "3.7.7"
  }
 },
 "nbformat": 4,
 "nbformat_minor": 4
}
